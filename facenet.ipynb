{
  "cells": [
    {
      "cell_type": "markdown",
      "metadata": {
        "id": "view-in-github",
        "colab_type": "text"
      },
      "source": [
        "<a href=\"https://colab.research.google.com/github/OumaimaFdhila/Clause/blob/master/facenet.ipynb\" target=\"_parent\"><img src=\"https://colab.research.google.com/assets/colab-badge.svg\" alt=\"Open In Colab\"/></a>"
      ]
    },
    {
      "cell_type": "code",
      "execution_count": null,
      "metadata": {
        "id": "_zhr3nDNHT3o"
      },
      "outputs": [],
      "source": [
        "!pip install facenet-pytorch fastapi uvicorn python-multipart nest-asyncio pyngrok supabase"
      ]
    },
    {
      "cell_type": "code",
      "execution_count": null,
      "metadata": {
        "id": "1K2B3KjdUxZY"
      },
      "outputs": [],
      "source": [
        "# ai\n",
        "from facenet_pytorch import MTCNN, InceptionResnetV1\n",
        "\n",
        "# database\n",
        "from supabase import create_client, Client\n",
        "\n",
        "# image processing\n",
        "from google.colab.patches import cv2_imshow\n",
        "import cv2\n",
        "from PIL import Image\n",
        "import numpy as np\n",
        "\n",
        "# from string to list\n",
        "import ast\n",
        "\n",
        "# api\n",
        "from fastapi import FastAPI, File, UploadFile, HTTPException\n",
        "from pydantic import BaseModel\n",
        "from typing import Optional\n",
        "\n",
        "# decoding\n",
        "from io import BytesIO\n",
        "import base64"
      ]
    },
    {
      "cell_type": "markdown",
      "metadata": {
        "id": "3U4mY4wbxeds"
      },
      "source": [
        "## Supabase keys and initialisations"
      ]
    },
    {
      "cell_type": "code",
      "execution_count": null,
      "metadata": {
        "id": "LCzOFvgH0hsd"
      },
      "outputs": [],
      "source": [
        "url: str = \"\"\n",
        "key: str = \"\"\n",
        "supabase: Client = create_client(url, key)"
      ]
    },
    {
      "cell_type": "markdown",
      "metadata": {
        "id": "loRXQLkWzB4t"
      },
      "source": [
        "## instenciation mta3 el classes li ne5dmou bihom el face detection"
      ]
    },
    {
      "cell_type": "code",
      "execution_count": null,
      "metadata": {
        "id": "9X7njbiaHtP2"
      },
      "outputs": [],
      "source": [
        "# ydetecti el blasa mta3 lwejh\n",
        "mtcnn = MTCNN(image_size=160, margin=0)\n",
        "\n",
        "# ybadel elwejh vector\n",
        "resnet = InceptionResnetV1(pretrained='vggface2').eval()"
      ]
    },
    {
      "cell_type": "markdown",
      "metadata": {
        "id": "0wpSHCZEx1m5"
      },
      "source": [
        "## function ta3teha img wou traja3lek vecteur"
      ]
    },
    {
      "cell_type": "code",
      "execution_count": null,
      "metadata": {
        "id": "do6mXlf3YWof"
      },
      "outputs": [],
      "source": [
        "def get_embadding(img):\n",
        "  img=cv2.cvtColor(img,cv2.COLOR_BGR2RGB)\n",
        "  # Get cropped and prewhitened image tensor\n",
        "  img_cropped = mtcnn(img) #ya3tik elwejh mta3 el image \"cropped image\"\n",
        "  # cv2_imshow(img_cropped.permute(1,2,0).numpy() * 255) #n7awlouh l7aja yefhemha cv2\n",
        "\n",
        "  # Calculate embedding (unsqueeze to add batch dimension)\n",
        "  img_embedding = resnet(img_cropped.unsqueeze(0))\n",
        "\n",
        "  boxes, probs, landmarks = mtcnn.detect(img, landmarks=True)\n",
        "\n",
        "  cv2.rectangle(img,(int(boxes[0][0]),int(boxes[0][1])),(int(boxes[0][2]),int(boxes[0][3])),(255,0,0),3)\n",
        "  # cv2_imshow(img)\n",
        "\n",
        "  return img_embedding.squeeze(0)"
      ]
    },
    {
      "cell_type": "markdown",
      "metadata": {
        "id": "xPZ9k3kMyI-1"
      },
      "source": [
        "## function ta3taha 2 vectors mta3 images te7seb el simularity"
      ]
    },
    {
      "cell_type": "code",
      "execution_count": null,
      "metadata": {
        "id": "xevXT_boOI_R"
      },
      "outputs": [],
      "source": [
        "def is_same(v1,v2):\n",
        "  print(np.linalg.norm(v1-v2))\n",
        "  return np.linalg.norm(v1-v2)<0.9"
      ]
    },
    {
      "cell_type": "markdown",
      "metadata": {
        "id": "YF60jeFhyYgK"
      },
      "source": [
        "## classes li ne5dmou bihom wou na3tyouhom lel api"
      ]
    },
    {
      "cell_type": "code",
      "execution_count": null,
      "metadata": {
        "id": "tHis1192sNwP"
      },
      "outputs": [],
      "source": [
        "class User(BaseModel):\n",
        "    first_name: str\n",
        "    last_name: str\n",
        "    image: Optional[str]\n",
        "    phone_number : str\n",
        "    email : str\n",
        "    role : str\n",
        "\n",
        "class ImageDetection(BaseModel):\n",
        "    image: Optional[str]\n",
        "\n",
        "class Euser(BaseModel):\n",
        "    first_name: str\n",
        "    last_name: str\n",
        "    phone_number : str\n",
        "    email : str\n",
        "    role : str"
      ]
    },
    {
      "cell_type": "markdown",
      "metadata": {
        "id": "dPmy5fV8yg1O"
      },
      "source": [
        "## el apis"
      ]
    },
    {
      "cell_type": "code",
      "execution_count": null,
      "metadata": {
        "id": "4KgdGMn-zgPh"
      },
      "outputs": [],
      "source": [
        "app = FastAPI()\n",
        "\n",
        "@app.get(\"/\")\n",
        "async def health_check():\n",
        "    \"\"\"Health check endpoint.\"\"\"\n",
        "    return {\"status\": \"healthy\"}\n",
        "\n",
        "@app.post(\"/image-detection\")\n",
        "async def get_image_size(data: ImageDetection):\n",
        "    try:\n",
        "        if not data.image:\n",
        "            raise HTTPException(status_code=400, detail=\"Image is required\")\n",
        "\n",
        "        # Separate the metadata from the base64 data\n",
        "        header, base64_data = data.image.split(',', 1)\n",
        "\n",
        "        # Decode the Base64 string to binary data\n",
        "        image_data = base64.b64decode(base64_data)\n",
        "\n",
        "        image = Image.open(BytesIO(image_data))\n",
        "        image = np.array(image)\n",
        "        response = supabase.table(\"embaddings\").select(\"embadding , first_name , last_name,id,role\").execute()\n",
        "        embadding = get_embadding(image).detach().numpy()\n",
        "        for elem in response.data :\n",
        "          if is_same(np.array(ast.literal_eval(elem[\"embadding\"])),embadding) :\n",
        "            return {\"status\": \"success\", \"first_name\" : elem[\"first_name\"], \"last_name\" : elem[\"last_name\"],\"id\" : elem[\"id\"], \"role\" : elem[\"role\"] , \"found\" : True}\n",
        "        return {\"status\": \"success\" , \"found\" : False}\n",
        "    except Exception as e:\n",
        "        print(f\"Error: {str(e)}\")\n",
        "        return {\"status\": \"error\"}\n",
        "\n",
        "@app.get(\"/all_users\")\n",
        "async def get_users():\n",
        "  try:\n",
        "        response = supabase.table('embaddings').select(\"id,first_name,last_name,email,phone_number,role\").execute()\n",
        "        if response.data:\n",
        "            return {\"status\": \"success\",\"data\" : response.data}\n",
        "        else:\n",
        "            raise HTTPException(status_code=404, detail=\"User not found.\")\n",
        "  except Exception as e:\n",
        "        print(f\"Error: {str(e)}\")\n",
        "        return {\"status\": \"error\"}\n",
        "\n",
        "\n",
        "@app.get(\"/get_user_by_id/{id}\")\n",
        "async def get_user(id: int):\n",
        "    try:\n",
        "        if not id:\n",
        "            raise HTTPException(status_code=400, detail=\"Id is required\")\n",
        "\n",
        "        print(id)\n",
        "\n",
        "        response = supabase.table('embaddings').select(\"first_name,last_name,role,email,phone_number\").eq('id', id).execute()\n",
        "\n",
        "        if response.data:\n",
        "            return {\"status\": \"success\", \"data\": response.data}\n",
        "        else:\n",
        "            raise HTTPException(status_code=404, detail=\"User not found\")\n",
        "    except Exception as e:\n",
        "        print(f\"Error: {str(e)}\")\n",
        "        raise HTTPException(status_code=500, detail=\"An error occurred while retrieving the user\")\n",
        "\n",
        "\n",
        "@app.delete(\"/delete_user/{id}\")\n",
        "async def get_user(id: int):\n",
        "    try:\n",
        "        if not id:\n",
        "            raise HTTPException(status_code=400, detail=\"Id is required\")\n",
        "\n",
        "        print(id)\n",
        "\n",
        "        response = supabase.table('embaddings').delete().eq('id', id).execute()\n",
        "\n",
        "        print(response.data)\n",
        "\n",
        "        if response.data:\n",
        "            return {\"status\": \"success\"}\n",
        "        else:\n",
        "            raise HTTPException(status_code=404, detail=\"User not found\")\n",
        "    except Exception as e:\n",
        "        print(f\"Error: {str(e)}\")\n",
        "        raise HTTPException(status_code=500, detail=\"An error occurred while retrieving the user\")\n",
        "\n",
        "\n",
        "@app.put(\"/edit_user/{id}\")\n",
        "async def edit_user(id: int, user: Euser):\n",
        "    try:\n",
        "        if not id:\n",
        "            raise HTTPException(status_code=400, detail=\"Id is required\")\n",
        "\n",
        "        # Ensure that the phone number is valid\n",
        "\n",
        "        if len(user.phone_number) != 8:\n",
        "            raise HTTPException(status_code=400, detail=\"Invalid phone number\")\n",
        "\n",
        "        # Update the user in the database\n",
        "\n",
        "        print(user)\n",
        "        response = supabase.table('embaddings').update({\n",
        "            \"first_name\": user.first_name,\n",
        "            \"last_name\": user.last_name,\n",
        "            \"email\": user.email,\n",
        "            \"phone_number\": user.phone_number,\n",
        "            \"role\": user.role\n",
        "        }).eq('id', id).execute()\n",
        "\n",
        "        print(response.data)\n",
        "\n",
        "        if response.data:\n",
        "            return {\"status\": \"success\"}\n",
        "        else:\n",
        "            raise HTTPException(status_code=404, detail=\"User not found\")\n",
        "    except HTTPException as http_err:\n",
        "        raise http_err\n",
        "    except Exception as e:\n",
        "        print(f\"Error: {str(e)}\")\n",
        "        raise HTTPException(status_code=500, detail=\"An error occurred while updating the user\")\n",
        "\n",
        "\n",
        "\n",
        "\n",
        "@app.post(\"/add_user\")\n",
        "async def add_user(user: User):\n",
        "    try:\n",
        "        if not user.image:\n",
        "            raise HTTPException(status_code=400, detail=\"Image is required\")\n",
        "\n",
        "        print(user)\n",
        "\n",
        "        # Separate the metadata from the base64 data\n",
        "        header, base64_data = user.image.split(',', 1)\n",
        "\n",
        "        # Decode the Base64 string to binary data\n",
        "        image_data = base64.b64decode(base64_data)\n",
        "\n",
        "        # Process the image\n",
        "        image = Image.open(BytesIO(image_data))\n",
        "        image_array = np.array(image)\n",
        "\n",
        "        # Get embeddings\n",
        "        embedding = get_embadding(image_array).detach().numpy().tolist()\n",
        "\n",
        "        # Insert data into Supabase\n",
        "        response = (\n",
        "            supabase.table(\"embaddings\")\n",
        "            .insert({\n",
        "                \"first_name\": user.first_name,\n",
        "                \"last_name\": user.last_name,\n",
        "                \"embadding\": embedding,\n",
        "                \"phone_number\" : user.phone_number,\n",
        "                \"email\": user.email,\n",
        "                \"role\" : user.role\n",
        "            })\n",
        "            .execute()\n",
        "        )\n",
        "\n",
        "        print(response.data)\n",
        "        return {\"status\": \"success\",\"data\" : response.data}\n",
        "    except Exception as e:\n",
        "        print(f\"Error: {str(e)}\")\n",
        "        raise HTTPException(status_code=500, detail=str(e))"
      ]
    },
    {
      "cell_type": "markdown",
      "metadata": {
        "id": "URAUNW9Eyp4Z"
      },
      "source": [
        "## ngrok li yrod api accesible lbara mel localhost"
      ]
    },
    {
      "cell_type": "code",
      "execution_count": null,
      "metadata": {
        "colab": {
          "background_save": true
        },
        "id": "eEavtOA_ynw9"
      },
      "outputs": [],
      "source": [
        "from pyngrok import ngrok\n",
        "import nest_asyncio\n",
        "import uvicorn\n",
        "\n",
        "token = \"\"\n",
        "ngrok.set_auth_token(token)\n",
        "\n",
        "# Configure ngrok with your custom domain\n",
        "ngrok_config = {\n",
        "    'addr': '8000',  # The local port your FastAPI app will run on\n",
        "    'hostname': '',  # Replace with your actual ngrok domain\n",
        "    'bind_tls': True  # Enable HTTPS\n",
        "}\n",
        "\n",
        "try:\n",
        "    # Kill any existing tunnels\n",
        "    ngrok.kill()\n",
        "\n",
        "    # Start new tunnel with custom domain\n",
        "    tunnel = ngrok.connect(**ngrok_config)\n",
        "    print(f'Ngrok tunnel established at: {tunnel.public_url}')\n",
        "except Exception as e:\n",
        "    print(f'Error establishing ngrok tunnel: {e}')\n",
        "\n",
        "nest_asyncio.apply()\n",
        "# Run the FastAPI app\n",
        "uvicorn.run(app, port=8000)\n"
      ]
    }
  ],
  "metadata": {
    "colab": {
      "provenance": [],
      "authorship_tag": "ABX9TyNydfcp5z51FEY9ZNneIJ7j",
      "include_colab_link": true
    },
    "kernelspec": {
      "display_name": "Python 3",
      "name": "python3"
    },
    "language_info": {
      "name": "python"
    }
  },
  "nbformat": 4,
  "nbformat_minor": 0
}