{
  "cells": [
    {
      "cell_type": "markdown",
      "metadata": {
        "id": "view-in-github",
        "colab_type": "text"
      },
      "source": [
        "<a href=\"https://colab.research.google.com/github/OumaimaFdhila/Clause/blob/master/facenet.ipynb\" target=\"_parent\"><img src=\"https://colab.research.google.com/assets/colab-badge.svg\" alt=\"Open In Colab\"/></a>"
      ]
    },
    {
      "cell_type": "code",
      "execution_count": null,
      "metadata": {
        "id": "_zhr3nDNHT3o"
      },
      "outputs": [],
      "source": [
        "!pip install facenet-pytorch fastapi uvicorn python-multipart nest-asyncio pyngrok supabase"
      ]
    },
    {
      "cell_type": "code",
      "execution_count": null,
      "metadata": {
        "id": "1K2B3KjdUxZY"
      },
      "outputs": [],
      "source": [
        "# ai\n",
        "from facenet_pytorch import MTCNN, InceptionResnetV1\n",
        "\n",
        "# database\n",
        "from supabase import create_client, Client\n",
        "\n",
        "# image processing\n",
        "from google.colab.patches import cv2_imshow\n",
        "import cv2\n",
        "from PIL import Image\n",
        "import numpy as np\n",
        "\n",
        "# from string to list\n",
        "import ast\n",
        "\n",
        "# api\n",
        "from fastapi import FastAPI, File, UploadFile, HTTPException\n",
        "from pydantic import BaseModel\n",
        "from typing import Optional\n",
        "\n",
        "# decoding\n",
        "from io import BytesIO\n",
        "import base64"
      ]
    },
    {
      "cell_type": "markdown",
      "metadata": {
        "id": "3U4mY4wbxeds"
      },
      "source": [
        "## Supabase keys and initialisations"
      ]
    },
    {
      "cell_type": "code",
      "execution_count": null,
      "metadata": {
        "id": "LCzOFvgH0hsd"
      },
      "outputs": [],
      "source": [
        "url: str = \"\"\n",
        "key: str = \"\"\n",
        "supabase: Client = create_client(url, key)"
      ]
    },
    {
      "cell_type": "markdown",
      "metadata": {
        "id": "loRXQLkWzB4t"
      },
      "source": [
        "## instenciation mta3 el classes li ne5dmou bihom el face detection"
      ]
    },
    {
      "cell_type": "code",
      "execution_count": null,
      "metadata": {
        "id": "9X7njbiaHtP2"
      },
      "outputs": [],
      "source": [
        "# ydetecti el blasa mta3 lwejh\n",
        "mtcnn = MTCNN(image_size=160, margin=0)\n",
        "\n",
        "# ybadel elwejh vector\n",
        "resnet = InceptionResnetV1(pretrained='vggface2').eval()"
      ]
    },
    {
      "cell_type": "markdown",
      "metadata": {
        "id": "0wpSHCZEx1m5"
      },
      "source": [
        "## function ta3teha img wou traja3lek vecteur"
      ]
    },
    {
      "cell_type": "code",
      "execution_count": null,
      "metadata": {
        "id": "do6mXlf3YWof"
      },
      "outputs": [],
      "source": [
        "def get_embadding(img):\n",
        "  img=cv2.cvtColor(img,cv2.COLOR_BGR2RGB)\n",
        "  # Get cropped and prewhitened image tensor\n",
        "  img_cropped = mtcnn(img) #ya3tik elwejh mta3 el image \"cropped image\"\n",
        "  # cv2_imshow(img_cropped.permute(1,2,0).numpy() * 255) #n7awlouh l7aja yefhemha cv2\n",
        "\n",
        "  # Calculate embedding (unsqueeze to add batch dimension)\n",
        "  img_embedding = resnet(img_cropped.unsqueeze(0))\n",
        "\n",
        "  boxes, probs, landmarks = mtcnn.detect(img, landmarks=True)\n",
        "\n",
        "  cv2.rectangle(img,(int(boxes[0][0]),int(boxes[0][1])),(int(boxes[0][2]),int(boxes[0][3])),(255,0,0),3)\n",
        "  # cv2_imshow(img)\n",
        "\n",
        "  return img_embedding.squeeze(0)"
      ]
    },
    {
      "cell_type": "markdown",
      "metadata": {
        "id": "xPZ9k3kMyI-1"
      },
      "source": [
        "## function ta3taha 2 vectors mta3 images te7seb el simularity"
      ]
    },
    {
      "cell_type": "code",
      "execution_count": null,
      "metadata": {
        "id": "xevXT_boOI_R"
      },
      "outputs": [],
      "source": [
        "def is_same(v1,v2):\n",
        "  print(np.linalg.norm(v1-v2))\n",
        "  return np.linalg.norm(v1-v2)<0.9"
      ]
    },
    {
      "cell_type": "markdown",
      "metadata": {
        "id": "YF60jeFhyYgK"
      },
      "source": [
        "## classes li ne5dmou bihom wou na3tyouhom lel api"
      ]
    },
    {
      "cell_type": "code",
      "execution_count": null,
      "metadata": {
        "id": "tHis1192sNwP"
      },
      "outputs": [],
      "source": [
        "class User(BaseModel):\n",
        "    first_name: str\n",
        "    last_name: str\n",
        "    image: Optional[str]\n",
        "    phone_number : str\n",
        "    email : str\n",
        "    role : str\n",
        "\n",
        "class ImageDetection(BaseModel):\n",
        "    image: Optional[str]\n",
        "\n",
        "class Euser(BaseModel):\n",
        "    first_name: str\n",
        "    last_name: str\n",
        "    phone_number : str\n",
        "    email : str\n",
        "    role : str"
      ]
    },
    {
      "cell_type": "markdown",
      "metadata": {
        "id": "dPmy5fV8yg1O"
      },
      "source": [
        "## el apis"
      ]
    },
    {
      "cell_type": "code",
      "execution_count": null,
      "metadata": {
        "id": "4KgdGMn-zgPh"
      },
      "outputs": [],
      "source": [
        "app = FastAPI()\n",
        "\n",
        "@app.get(\"/\")\n",
        "async def health_check():\n",
        "    \"\"\"Health check endpoint.\"\"\"\n",
        "    return {\"status\": \"healthy\"}\n",
        "\n",
        "@app.post(\"/image-detection\")\n",
        "async def get_image_size(data: ImageDetection):\n",
        "    try:\n",
        "        if not data.image:\n",
        "            raise HTTPException(status_code=400, detail=\"Image is required\")\n",
        "\n",
        "        # Separate the metadata from the base64 data\n",
        "        header, base64_data = data.image.split(',', 1)\n",
        "\n",
        "        # Decode the Base64 string to binary data\n",
        "        image_data = base64.b64decode(base64_data)\n",
        "\n",
        "        image = Image.open(BytesIO(image_data))\n",
        "        image = np.array(image)\n",
        "        response = supabase.table(\"embaddings\").select(\"embadding , first_name , last_name,id,role\").execute()\n",
        "        embadding = get_embadding(image).detach().numpy()\n",
        "        for elem in response.data :\n",
        "          if is_same(np.array(ast.literal_eval(elem[\"embadding\"])),embadding) :\n",
        "            return {\"status\": \"success\", \"first_name\" : elem[\"first_name\"], \"last_name\" : elem[\"last_name\"],\"id\" : elem[\"id\"], \"role\" : elem[\"role\"] , \"found\" : True}\n",
        "        return {\"status\": \"success\" , \"found\" : False}\n",
        "    except Exception as e:\n",
        "        print(f\"Error: {str(e)}\")\n",
        "        return {\"status\": \"error\"}\n",
        "\n",
        "@app.get(\"/all_users\")\n",
        "async def get_users():\n",
        "  try:\n",
        "        response = supabase.table('embaddings').select(\"id,first_name,last_name,email,phone_number,role\").execute()\n",
        "        if response.data:\n",
        "            return {\"status\": \"success\",\"data\" : response.data}\n",
        "        else:\n",
        "            raise HTTPException(status_code=404, detail=\"User not found.\")\n",
        "  except Exception as e:\n",
        "        print(f\"Error: {str(e)}\")\n",
        "        return {\"status\": \"error\"}\n",
        "\n",
        "\n",
        "@app.get(\"/get_user_by_id/{id}\")\n",
        "async def get_user(id: int):\n",
        "    try:\n",
        "        if not id:\n",
        "            raise HTTPException(status_code=400, detail=\"Id is required\")\n",
        "\n",
        "        print(id)\n",
        "\n",
        "        response = supabase.table('embaddings').select(\"first_name,last_name,role,email,phone_number\").eq('id', id).execute()\n",
        "\n",
        "        if response.data:\n",
        "            return {\"status\": \"success\", \"data\": response.data}\n",
        "        else:\n",
        "            raise HTTPException(status_code=404, detail=\"User not found\")\n",
        "    except Exception as e:\n",
        "        print(f\"Error: {str(e)}\")\n",
        "        raise HTTPException(status_code=500, detail=\"An error occurred while retrieving the user\")\n",
        "\n",
        "\n",
        "@app.delete(\"/delete_user/{id}\")\n",
        "async def get_user(id: int):\n",
        "    try:\n",
        "        if not id:\n",
        "            raise HTTPException(status_code=400, detail=\"Id is required\")\n",
        "\n",
        "        print(id)\n",
        "\n",
        "        response = supabase.table('embaddings').delete().eq('id', id).execute()\n",
        "\n",
        "        print(response.data)\n",
        "\n",
        "        if response.data:\n",
        "            return {\"status\": \"success\"}\n",
        "        else:\n",
        "            raise HTTPException(status_code=404, detail=\"User not found\")\n",
        "    except Exception as e:\n",
        "        print(f\"Error: {str(e)}\")\n",
        "        raise HTTPException(status_code=500, detail=\"An error occurred while retrieving the user\")\n",
        "\n",
        "\n",
        "@app.put(\"/edit_user/{id}\")\n",
        "async def edit_user(id: int, user: Euser):\n",
        "    try:\n",
        "        if not id:\n",
        "            raise HTTPException(status_code=400, detail=\"Id is required\")\n",
        "\n",
        "        # Ensure that the phone number is valid\n",
        "\n",
        "        if len(user.phone_number) != 8:\n",
        "            raise HTTPException(status_code=400, detail=\"Invalid phone number\")\n",
        "\n",
        "        # Update the user in the database\n",
        "\n",
        "        print(user)\n",
        "        response = supabase.table('embaddings').update({\n",
        "            \"first_name\": user.first_name,\n",
        "            \"last_name\": user.last_name,\n",
        "            \"email\": user.email,\n",
        "            \"phone_number\": user.phone_number,\n",
        "            \"role\": user.role\n",
        "        }).eq('id', id).execute()\n",
        "\n",
        "        print(response.data)\n",
        "\n",
        "        if response.data:\n",
        "            return {\"status\": \"success\"}\n",
        "        else:\n",
        "            raise HTTPException(status_code=404, detail=\"User not found\")\n",
        "    except HTTPException as http_err:\n",
        "        raise http_err\n",
        "    except Exception as e:\n",
        "        print(f\"Error: {str(e)}\")\n",
        "        raise HTTPException(status_code=500, detail=\"An error occurred while updating the user\")\n",
        "\n",
        "\n",
        "\n",
        "\n",
        "@app.post(\"/add_user\")\n",
        "async def add_user(user: User):\n",
        "    try:\n",
        "        if not user.image:\n",
        "            raise HTTPException(status_code=400, detail=\"Image is required\")\n",
        "\n",
        "        print(user)\n",
        "\n",
        "        # Separate the metadata from the base64 data\n",
        "        header, base64_data = user.image.split(',', 1)\n",
        "\n",
        "        # Decode the Base64 string to binary data\n",
        "        image_data = base64.b64decode(base64_data)\n",
        "\n",
        "        # Process the image\n",
        "        image = Image.open(BytesIO(image_data))\n",
        "        image_array = np.array(image)\n",
        "\n",
        "        # Get embeddings\n",
        "        embedding = get_embadding(image_array).detach().numpy().tolist()\n",
        "\n",
        "        # Insert data into Supabase\n",
        "        response = (\n",
        "            supabase.table(\"embaddings\")\n",
        "            .insert({\n",
        "                \"first_name\": user.first_name,\n",
        "                \"last_name\": user.last_name,\n",
        "                \"embadding\": embedding,\n",
        "                \"phone_number\" : user.phone_number,\n",
        "                \"email\": user.email,\n",
        "                \"role\" : user.role\n",
        "            })\n",
        "            .execute()\n",
        "        )\n",
        "\n",
        "        print(response.data)\n",
        "        return {\"status\": \"success\",\"data\" : response.data}\n",
        "    except Exception as e:\n",
        "        print(f\"Error: {str(e)}\")\n",
        "        raise HTTPException(status_code=500, detail=str(e))"
      ]
    },
    {
      "cell_type": "markdown",
      "metadata": {
        "id": "URAUNW9Eyp4Z"
      },
      "source": [
        "## ngrok li yrod api accesible lbara mel localhost"
      ]
    },
    {
      "cell_type": "code",
      "execution_count": null,
      "metadata": {
        "colab": {
          "background_save": true,
          "base_uri": "https://localhost:8080/"
        },
        "id": "eEavtOA_ynw9",
        "outputId": "9d244f75-0ed0-4462-d9bd-6c77f9924816"
      },
      "outputs": [
        {
          "name": "stderr",
          "output_type": "stream",
          "text": [
            "INFO:     Started server process [32426]\n",
            "INFO:     Waiting for application startup.\n",
            "INFO:     Application startup complete.\n",
            "INFO:     Uvicorn running on http://127.0.0.1:8000 (Press CTRL+C to quit)\n"
          ]
        },
        {
          "name": "stdout",
          "output_type": "stream",
          "text": [
            "Ngrok tunnel established at: https://nearby-prompt-buzzard.ngrok-free.app\n",
            "13\n",
            "INFO:     41.229.69.200:0 - \"GET /get_user_by_id/13 HTTP/1.1\" 200 OK\n",
            "13\n",
            "INFO:     41.229.69.200:0 - \"GET /get_user_by_id/13 HTTP/1.1\" 200 OK\n",
            "13\n",
            "INFO:     41.229.69.200:0 - \"GET /get_user_by_id/13 HTTP/1.1\" 200 OK\n",
            "13\n",
            "INFO:     41.229.69.200:0 - \"GET /get_user_by_id/13 HTTP/1.1\" 200 OK\n",
            "13\n",
            "INFO:     41.229.69.200:0 - \"GET /get_user_by_id/13 HTTP/1.1\" 200 OK\n",
            "INFO:     41.229.69.200:0 - \"GET /all_users HTTP/1.1\" 200 OK\n",
            "INFO:     41.229.69.200:0 - \"GET /all_users HTTP/1.1\" 200 OK\n",
            "13\n",
            "INFO:     41.229.69.200:0 - \"GET /get_user_by_id/13 HTTP/1.1\" 200 OK\n",
            "13\n",
            "INFO:     41.229.69.200:0 - \"GET /get_user_by_id/13 HTTP/1.1\" 200 OK\n",
            "13\n",
            "INFO:     41.229.69.200:0 - \"GET /get_user_by_id/13 HTTP/1.1\" 200 OK\n",
            "0.3740341736499598\n",
            "INFO:     41.229.69.200:0 - \"POST /image-detection HTTP/1.1\" 200 OK\n",
            "2\n",
            "INFO:     41.229.69.200:0 - \"GET /get_user_by_id/2 HTTP/1.1\" 200 OK\n",
            "2\n",
            "INFO:     41.229.69.200:0 - \"GET /get_user_by_id/2 HTTP/1.1\" 200 OK\n",
            "INFO:     41.229.69.200:0 - \"GET /all_users HTTP/1.1\" 200 OK\n",
            "INFO:     41.229.69.200:0 - \"GET /all_users HTTP/1.1\" 200 OK\n",
            "2\n",
            "INFO:     41.229.69.200:0 - \"GET /get_user_by_id/2 HTTP/1.1\" 200 OK\n",
            "2\n",
            "INFO:     41.229.69.200:0 - \"GET /get_user_by_id/2 HTTP/1.1\" 200 OK\n",
            "2\n",
            "INFO:     41.229.69.200:0 - \"GET /get_user_by_id/2 HTTP/1.1\" 200 OK\n",
            "INFO:     41.229.69.200:0 - \"GET /all_users HTTP/1.1\" 200 OK\n",
            "2\n",
            "INFO:     41.229.69.200:0 - \"GET /get_user_by_id/2 HTTP/1.1\" 200 OK\n",
            "INFO:     41.229.69.200:0 - \"GET /all_users HTTP/1.1\" 200 OK\n",
            "0.45505468606270394\n",
            "INFO:     41.229.69.200:0 - \"POST /image-detection HTTP/1.1\" 200 OK\n",
            "2\n",
            "INFO:     41.229.69.200:0 - \"GET /get_user_by_id/2 HTTP/1.1\" 200 OK\n",
            "2\n",
            "INFO:     41.229.69.200:0 - \"GET /get_user_by_id/2 HTTP/1.1\" 200 OK\n",
            "INFO:     41.229.69.200:0 - \"GET /all_users HTTP/1.1\" 200 OK\n",
            "INFO:     41.229.69.200:0 - \"GET /all_users HTTP/1.1\" 200 OK\n",
            "2\n",
            "INFO:     41.229.69.200:0 - \"GET /get_user_by_id/2 HTTP/1.1\" 200 OK\n",
            "2\n",
            "INFO:     41.229.69.200:0 - \"GET /get_user_by_id/2 HTTP/1.1\" 200 OK\n",
            "2\n",
            "INFO:     41.229.69.200:0 - \"GET /get_user_by_id/2 HTTP/1.1\" 200 OK\n",
            "1.4902109116064488\n",
            "1.20239328259689\n",
            "0.4661683832159083\n",
            "INFO:     41.229.69.200:0 - \"POST /image-detection HTTP/1.1\" 200 OK\n",
            "13\n",
            "INFO:     41.229.69.200:0 - \"GET /get_user_by_id/13 HTTP/1.1\" 200 OK\n",
            "13\n",
            "INFO:     41.229.69.200:0 - \"GET /get_user_by_id/13 HTTP/1.1\" 200 OK\n",
            "INFO:     41.229.69.200:0 - \"GET /all_users HTTP/1.1\" 200 OK\n",
            "INFO:     41.229.69.200:0 - \"GET /all_users HTTP/1.1\" 200 OK\n",
            "first_name='yasmin' last_name='hdhdie' image='data:image/webp;base64,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' phone_number='22222222' email='kdkkd@hhshs.com' role='admin'\n",
            "[{'id': 30, 'created_at': '2024-12-13T13:12:38.278143+00:00', 'first_name': 'yasmin', 'last_name': 'hdhdie', 'embadding': '[0.014465714,-0.017350871,-0.04622957,-0.007436682,0.044118006,-0.028602965,0.02589984,-0.027145274,0.056402396,-0.055234086,0.012281447,-0.017675648,-0.007169734,-0.037702616,0.0968726,-0.035798587,0.015325689,0.013164167,0.029339937,0.0005107852,-0.043539997,0.058654506,0.04892068,0.06123101,-0.0051588574,0.059383146,-0.040715333,-0.09716881,0.0066043832,0.0064976085,-0.06885727,0.04124575,-0.060143072,0.070616476,0.07488696,0.059513442,0.021044437,0.011799222,-0.04561624,0.081173,0.032073423,0.014004259,-0.043504298,-0.038647663,-0.06398537,-0.044779953,0.024812477,0.047552522,-0.087380655,-0.012310706,-0.021450767,0.06835604,-0.010943005,0.06484367,0.0030607376,-0.0068669287,-0.014009597,0.020809658,0.015737278,0.023419108,0.038608532,0.030128503,0.021234524,-0.053862426,0.076746926,-0.024478428,-0.040075656,-0.0017352481,0.002104252,0.018115265,-0.015564045,0.022595622,-0.04125722,-0.03937797,0.09362964,-0.05314967,-0.050963446,0.019846274,-0.008382052,-0.018925661,0.037216794,0.028717546,-0.08761903,-0.006779595,-0.03296658,0.023959897,-0.009731146,0.042994447,-0.004111107,-0.004821862,0.10542767,0.03661448,0.011670803,-0.019041287,0.02845171,-0.03814067,0.015904592,0.04050022,-0.083474986,-0.092771985,-0.02675725,-0.06690174,-0.03236241,-0.017409254,0.023842007,-0.03195063,0.04629116,0.016301619,-0.01882403,0.009807445,0.016718138,-0.0027765674,-0.023812834,-0.024653193,0.021633275,-0.040986277,0.012190982,-0.011658257,-0.12540285,0.016453385,-0.09513979,0.03461837,0.052237853,-0.00042931526,-0.034398805,0.005982901,-0.058043927,-0.057480745,-0.0028464189,0.021246454,-0.010340289,-0.012484871,0.08953173,-0.076194584,-0.04420993,-0.013687239,-0.011664829,-0.0060123354,0.013225806,0.026753843,0.005932803,0.018932946,0.045907706,0.09929982,-0.006675403,-0.08262314,-0.03987584,0.04744169,0.0012613509,-0.027041042,0.032230057,-0.049655672,-0.02377211,0.029499564,-0.029138748,-0.03798532,0.006442186,0.051783834,0.044210553,-0.056577396,0.023235176,0.030580375,-0.06446717,0.010584337,0.02481123,0.050645623,-0.1000085,0.0032470496,0.049256664,0.019841256,-0.00866062,-0.06297297,-0.009316315,-0.01911033,0.020479718,0.011423979,-0.03424322,-0.0151705025,-0.007451994,0.0046183993,-0.0774445,-0.013212627,0.009542799,0.029838338,-0.019964457,0.042561434,0.061665215,0.010627571,-0.021005573,0.03504917,0.052197404,-0.07415859,0.048651032,0.033295188,-0.06424421,-0.094167896,0.017474115,0.00792037,0.009641795,0.0330585,0.06686733,-0.034705922,0.006813459,0.016098281,0.008031476,-0.0018546828,0.03375021,-0.051889293,0.016956529,0.051766384,-0.057654895,-0.072061785,-0.06359943,-0.02632633,-0.03196548,-0.027001755,0.06031577,0.0036382868,-0.026070772,0.0076846145,-0.09812761,-0.1298381,-0.055818513,-0.07127066,0.057614774,-0.008134566,0.036342494,0.06106248,-0.018232523,-0.016540868,0.023499785,0.03662292,0.0076003675,-0.04116005,0.07208479,0.008120659,-0.039502703,0.032871544,-0.0011048552,-0.034587704,-0.022326797,-0.08125611,0.02584718,0.05642853,0.0277321,0.07294554,0.037866186,0.020280017,-0.019337451,0.009265989,0.10267744,0.0644733,0.0074173547,0.0035235067,-0.022229563,-0.022336638,-0.04613767,-0.007833092,0.019788852,-0.009814802,0.000735447,-0.09498295,0.006038434,-0.040889096,-0.059634745,0.03663329,0.024757026,0.079356335,-0.093168154,-0.0051123947,0.019607617,-0.027863383,-0.04142992,0.05897647,0.024949634,-0.045868594,-0.07174491,0.025194013,-0.052987058,0.028060023,-0.01211168,-0.009200443,0.010310739,-0.024440587,-0.07596304,-0.03534379,-0.038637884,-0.029202547,0.005431946,0.045966662,-0.000936092,-0.02966165,0.060992,-0.01229176,0.0068539395,-0.020626541,0.006763815,-0.037971526,-0.036808006,-0.013217994,0.027999846,0.013026343,0.0012689243,0.106709085,0.015177429,-0.078873165,-0.028405972,0.011903144,0.07733897,0.020907857,0.0032369704,0.047471687,0.106014,0.0678592,0.07445849,0.01878983,0.03220543,0.05095366,0.00821978,-0.06237106,-0.04894381,0.0017466092,0.017288497,0.086285144,-0.09370847,0.04272912,0.0009239863,0.06540535,-0.002633392,0.131045,-0.035525016,-0.0117515335,-0.0006047875,0.026287278,-0.022420758,-0.060344256,-0.0055936896,0.018852288,0.1046384,0.051271763,0.04759143,-0.0498517,-0.0851625,-0.05320756,0.053945445,-0.06184606,0.007201722,0.032534093,-0.03558746,-0.03138071,-0.0011099454,0.04179743,-0.009676173,-0.01668897,-0.024932504,0.09563361,0.047471248,-0.0858263,0.067731366,0.0061452053,-0.034505643,-0.006823976,-0.012907026,-0.008099602,-0.051075254,0.082642354,0.025365649,0.010595134,0.044742778,-0.0047266856,-0.09602173,0.029326757,0.0022734085,-0.024518117,0.037241492,0.08868452,0.07306287,-0.041789852,0.052758943,0.015758589,0.019321844,-0.04433627,0.012898939,0.025314588,0.10060223,0.047793597,-0.029634912,0.024169683,0.0839203,0.01901103,-0.031835966,0.062337577,0.028017452,0.01978597,-0.04711934,-0.033481296,-0.0037309066,0.042497925,-0.070829526,0.018855289,-0.037472207,-0.033067487,0.048115607,0.01542357,-0.03309002,-0.021960067,-0.00069011655,-0.02901638,0.0014446569,-0.009539236,0.077457525,0.013466826,-0.012872323,-0.03852442,-0.08996992,-0.007748581,-0.038525574,-0.097907364,0.0033559508,-0.06948264,-0.012861749,0.008248833,-0.028204482,0.07177085,-0.028216813,0.0038133303,0.038566165,-0.004667877,-0.06536412,-0.0084556965,0.05666223,0.046918985,-0.017229212,-0.00454977,-0.032960366,0.019156499,0.021521661,-0.01563781,-0.046493724,0.068275556,-0.05375051,0.02146917,0.032914348,0.018075861,0.09519031,-0.066374026,-0.06684335,0.014909798,0.009866731,0.030533267,-0.035229754,-0.012883709,-0.012288253,-0.036645696,-0.0024577705,-0.0030285213,-0.025870264,0.08812899,0.052619476,-0.0023958292,0.003631032,0.002573435,-0.0116264215,0.0025666493,-0.04130004,-0.061222643,-0.002744751,-0.017622024,0.01829758,0.04322557,-0.03876001,-0.0009920988,-0.047694433,-0.029602883,-0.0036941268,0.02565498,-0.030659445,0.0055741533,-0.014336869,-0.027898887,0.040589742,0.040375788,0.049889546,0.020674821,0.053089127,-0.034968637,0.0021442766,0.018199455,-0.021976909,-0.06408803,0.00613588,-0.060091153,0.0057665445,0.030237434,0.048142686,0.041996073,-0.024207696,0.10074988,0.061470803,0.0051550604,-0.024340205,0.0037841392,-0.0036004311,0.045210335,-0.03001774,-0.07137163,-0.0050049173,-0.03261247,0.041474547,-0.0059799985,0.0051196977,-0.019606994]', 'email': 'kdkkd@hhshs.com', 'phone_number': '22222222', 'role': 'admin'}]\n",
            "INFO:     41.229.69.200:0 - \"POST /add_user HTTP/1.1\" 200 OK\n",
            "13\n",
            "INFO:     41.229.69.200:0 - \"GET /get_user_by_id/13 HTTP/1.1\" 200 OK\n",
            "13\n",
            "INFO:     41.229.69.200:0 - \"GET /get_user_by_id/13 HTTP/1.1\" 200 OK\n",
            "INFO:     41.229.69.200:0 - \"GET /all_users HTTP/1.1\" 200 OK\n",
            "1.4162609690177568\n",
            "1.4754842995873951\n",
            "1.0820405226209193\n",
            "1.292142642850845\n",
            "INFO:     41.229.69.200:0 - \"POST /image-detection HTTP/1.1\" 200 OK\n"
          ]
        }
      ],
      "source": [
        "from pyngrok import ngrok\n",
        "import nest_asyncio\n",
        "import uvicorn\n",
        "\n",
        "token = \"\"\n",
        "ngrok.set_auth_token(token)\n",
        "\n",
        "# Configure ngrok with your custom domain\n",
        "ngrok_config = {\n",
        "    'addr': '8000',  # The local port your FastAPI app will run on\n",
        "    'hostname': '',  # Replace with your actual ngrok domain\n",
        "    'bind_tls': True  # Enable HTTPS\n",
        "}\n",
        "\n",
        "try:\n",
        "    # Kill any existing tunnels\n",
        "    ngrok.kill()\n",
        "\n",
        "    # Start new tunnel with custom domain\n",
        "    tunnel = ngrok.connect(**ngrok_config)\n",
        "    print(f'Ngrok tunnel established at: {tunnel.public_url}')\n",
        "except Exception as e:\n",
        "    print(f'Error establishing ngrok tunnel: {e}')\n",
        "\n",
        "nest_asyncio.apply()\n",
        "# Run the FastAPI app\n",
        "uvicorn.run(app, port=8000)\n"
      ]
    }
  ],
  "metadata": {
    "colab": {
      "provenance": [],
      "authorship_tag": "ABX9TyNydfcp5z51FEY9ZNneIJ7j",
      "include_colab_link": true
    },
    "kernelspec": {
      "display_name": "Python 3",
      "name": "python3"
    },
    "language_info": {
      "name": "python"
    }
  },
  "nbformat": 4,
  "nbformat_minor": 0
}